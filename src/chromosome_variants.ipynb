{
 "cells": [
  {
   "cell_type": "markdown",
   "source": [
    "# Chromosome variants\n",
    "\n",
    "This notebook demonstrates the utilization of chromosome variants in machine learning and how to implement them in Python.\n",
    "\n",
    "## Introduction\n",
    "\n",
    "Chromosome is often used as a representation in evolutionary algorithms like genetic algorithms. Each valid solution to a problem is called a chromosome, corresponding to each individual in the population.\n",
    "\n",
    "## Implementation\n",
    "\n",
    "We'll show some common encodings for chromosome representation. Take binary encoding of a famous game Sokoban as an example, we also demonstrate how to use them to form the next generation in an evolutionary algorithm."
   ],
   "metadata": {
    "collapsed": false
   },
   "id": "7f04f87947034fe4"
  },
  {
   "cell_type": "markdown",
   "source": [
    "## Encoding\n",
    "\n",
    "There are several ways to represent a chromosome depending on the data of your task. We are going to demonstrate 3 popular ways of representation in this notebook: \n",
    "- binary representation\n",
    "- permutation representation\n",
    "- real-valued representation"
   ],
   "metadata": {
    "collapsed": false
   },
   "id": "f6859880dcc6737f"
  },
  {
   "cell_type": "markdown",
   "source": [
    "### Binary representation\n",
    "\n",
    "We import the `numpy` library, and then define parameters and chromosomes. The genotype space of binary representation only include 0s and 1s. This method is common in problems where solutions can be represented naturally in binary form, such as searching for the optimal value of an elementary function."
   ],
   "metadata": {
    "collapsed": false
   },
   "id": "6f9ff84c905494b9"
  },
  {
   "cell_type": "code",
   "execution_count": null,
   "outputs": [],
   "source": [
    "import numpy as np\n",
    "\n",
    "np.random.seed(42)\n",
    "# Binary representation\n",
    "chrom = np.random.randint(0,2,10)\n",
    "print(chrom)"
   ],
   "metadata": {
    "collapsed": false
   },
   "id": "a7cd4cade4a73b32"
  },
  {
   "cell_type": "markdown",
   "source": [
    "### Permutation representation\n",
    "\n",
    "The genotype space of this representation is a permutation of a fixed set of values. This type of representation can be used to solve problems such as 8-queens problem or traveling salesman problem."
   ],
   "metadata": {
    "collapsed": false
   },
   "id": "ec9fd6fca93eda7e"
  },
  {
   "cell_type": "code",
   "execution_count": null,
   "outputs": [],
   "source": [
    "# Permutation representation\n",
    "n = 8 # number of cities/queens\n",
    "rand_ch = np.array(range(n))  \n",
    "np.random.shuffle(rand_ch)  # shuffle the genes in the array\n",
    "chrom = rand_ch\n",
    "print(chrom)"
   ],
   "metadata": {
    "collapsed": false
   },
   "id": "837e2b48a3e7feed"
  },
  {
   "cell_type": "markdown",
   "source": [
    "### Real-valued representation\n",
    "\n",
    "The genotype space of this representation is R^n, where R denotes the real number. It's suitable for cases whose parameters are continuous values, such as optimization of weight parameters."
   ],
   "metadata": {
    "collapsed": false
   },
   "id": "1ebd42c4b81e63b7"
  },
  {
   "cell_type": "code",
   "execution_count": null,
   "outputs": [],
   "source": [
    "chrom = np.random.random(10)\n",
    "print(chrom)"
   ],
   "metadata": {
    "collapsed": false
   },
   "id": "a6bfe7bc9ecfbb5c"
  },
  {
   "cell_type": "markdown",
   "source": [
    "## Binary encoding example\n",
    "\n",
    "We set up a sokoban level of 5*5, only two type of tiles are included in the chromosome. You can try to convert the binary array to a sokoban level through this project: [sokoban_generation](https://aingames.cn/demo/mopcg/index.html).\n",
    "\n",
    "![level](../examples/Level_Encoding.png)"
   ],
   "metadata": {
    "collapsed": false
   },
   "id": "8f9bf8a4cecd7fd2"
  },
  {
   "cell_type": "code",
   "execution_count": null,
   "outputs": [],
   "source": [
    "pc = 0.8 # crossover probability\n",
    "pm = 0.3 # mutation probability\n",
    "\n",
    "np.random.seed(42)\n",
    "chrom1 = np.random.randint(0,2,14)\n",
    "chrom2 = np.random.randint(0,2,14)\n",
    "dna_length = len(chrom1) # chromosome length\n",
    "str_list1 = ''.join(list(map(str, chrom1)))\n",
    "str_list2 = ''.join(list(map(str, chrom2)))\n",
    "print(str_list1,str_list2)"
   ],
   "metadata": {
    "collapsed": false
   },
   "id": "a84fdf51160f98d2"
  },
  {
   "cell_type": "markdown",
   "source": [
    "Visualize our two chromosomes in the game:\n",
    "\n",
    "![Chrom](../examples/Chromosome.png)"
   ],
   "metadata": {
    "collapsed": false
   },
   "id": "d97fca4314f27f6e"
  },
  {
   "cell_type": "markdown",
   "source": [
    "## Crossover\n",
    "\n",
    "Next, we randomly generate a number to decide whether to take a crossover operation. If the number is smaller than parameter pc, we select a crossover point of the chromosome and exchange all genes located after this position of the parent chromosomes."
   ],
   "metadata": {
    "collapsed": false
   },
   "id": "d671df2dcad4e78e"
  },
  {
   "cell_type": "code",
   "execution_count": null,
   "outputs": [],
   "source": [
    "def crossover(chrom1, chrom2):\n",
    "    offspring1 = chrom1\n",
    "    offspring2 = chrom2\n",
    "    print(offspring1, offspring2)\n",
    "    cross_prob = np.random.rand()\n",
    "    if cross_prob < pc:\n",
    "        # select a crossover position randomly\n",
    "        cross_pos = np.random.randint(1, dna_length)\n",
    "        print(f\"Crossover position: {cross_pos}\")\n",
    "        offspring1[cross_pos:], offspring2[cross_pos:] = (\n",
    "            offspring2[cross_pos:].copy(),\n",
    "            offspring1[cross_pos:].copy(),\n",
    "        ) \n",
    "    return offspring1, offspring2\n",
    "chrom1, chrom2 = crossover(chrom1, chrom2)\n",
    "print(\"Chromosomes after crossover:\")\n",
    "print(chrom1, chrom2)"
   ],
   "metadata": {
    "collapsed": false
   },
   "id": "97cad283b31262cb"
  },
  {
   "cell_type": "markdown",
   "source": [
    "## Mutation\n",
    "\n",
    "After crossover, we can apply mutation to our chromosomes. We randomly flip one bit in a chromosome according to the mutation probability."
   ],
   "metadata": {
    "collapsed": false
   },
   "id": "6fb99a8b151df780"
  },
  {
   "cell_type": "code",
   "execution_count": null,
   "outputs": [],
   "source": [
    "def mutation(chrom1, chrom2):\n",
    "    offspring1 = chrom1\n",
    "    offspring2 = chrom2\n",
    "    print(offspring1, offspring2)\n",
    "    for x in [offspring1, offspring2]:\n",
    "        mutate_prob = np.random.rand()\n",
    "        print(mutate_prob)\n",
    "        if mutate_prob < pm:\n",
    "            # number of bits to mutate\n",
    "            mutate_bit = 1\n",
    "            # randomly select position to mutate\n",
    "            mutate_pos = np.random.permutation(dna_length)[:mutate_bit]\n",
    "            for p in mutate_pos:\n",
    "                x[mutate_pos] = 1 - x[mutate_pos]\n",
    "    return offspring1, offspring2\n",
    "chrom1, chrom2 = mutation(chrom1, chrom2)\n",
    "print(chrom1, chrom2)"
   ],
   "metadata": {
    "collapsed": false
   },
   "id": "3f922635f71b0799"
  },
  {
   "cell_type": "markdown",
   "source": [
    "## Best Practices\n",
    "\n",
    "- Find a way of encoding that fits best for the task at hand. Many solutions can be represented in binary encoding, but when dealing with some high-precision continuous function optimization problems, real-valued encoding can be employed.\n",
    "- The encoding process should be clear and easy to decode. Redundancy will lead to the expansion of search space and reduce the efficiency of your algorithm.\n",
    "- Make sure the chromosomes after crossover and mutation still represent an effective solution.\n",
    "- Steps taken in this generation process should be able to preserve the diversity of the population."
   ],
   "metadata": {
    "collapsed": false
   },
   "id": "46b84d87f8653024"
  }
 ],
 "metadata": {
  "kernelspec": {
   "display_name": "Python 3",
   "language": "python",
   "name": "python3"
  },
  "language_info": {
   "codemirror_mode": {
    "name": "ipython",
    "version": 2
   },
   "file_extension": ".py",
   "mimetype": "text/x-python",
   "name": "python",
   "nbconvert_exporter": "python",
   "pygments_lexer": "ipython2",
   "version": "2.7.6"
  }
 },
 "nbformat": 4,
 "nbformat_minor": 5
}
