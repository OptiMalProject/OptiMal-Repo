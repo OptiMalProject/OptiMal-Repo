{
 "cells": [
  {
   "cell_type": "markdown",
   "metadata": {},
   "source": [
    "# Random Seed Generation\n",
    "\n",
    "This notebook demonstrates the importance of random seed generation in machine learning tasks and how to implement it in Python.\n",
    "\n",
    "## Introduction\n",
    "\n",
    "Random seed generation is crucial in machine learning for ensuring reproducibility and consistency in results. By setting a fixed random seed, we can guarantee that random operations produce the same results across different runs of our code.\n",
    "\n",
    "## Implementation\n",
    "\n",
    "Let's implement random seed generation using Python's built-in `random` module and the popular `numpy` library."
   ]
  },
  {
   "cell_type": "code",
   "execution_count": null,
   "metadata": {},
   "outputs": [],
   "source": [
    "import random\n",
    "import numpy as np\n",
    "\n",
    "def set_random_seed(seed):\n",
    "    random.seed(seed)\n",
    "    np.random.seed(seed)\n",
    "    print(f\"Random seed set to: {seed}\")\n",
    "\n",
    "set_random_seed(42)"
   ]
  },
  {
   "cell_type": "code",
   "execution_count": null,
   "metadata": {},
   "outputs": [],
   "source": [
    "def generate_random_numbers():\n",
    "    print(\"Python's random module:\")\n",
    "    for _ in range(3):\n",
    "        print(random.random())\n",
    "    \n",
    "    print(\"\\nNumPy random:\")\n",
    "    print(np.random.rand(3))\n",
    "\n",
    "print(\"First run:\")\n",
    "set_random_seed(42)\n",
    "generate_random_numbers()\n",
    "\n",
    "print(\"\\nSecond run:\")\n",
    "set_random_seed(42)\n",
    "generate_random_numbers()\n",
    "\n",
    "print(\"\\nThird run with different seed:\")\n",
    "set_random_seed(123)\n",
    "generate_random_numbers()"
   ]
  },
  {
   "cell_type": "markdown",
   "metadata": {},
   "source": [
    "## Importance in Machine Learning\n",
    "Random seed generation is particularly important in machine learning for:\n",
    "\n",
    "- Reproducibility: Ensuring that experiments can be replicated with the same results.\n",
    "- Debugging: Helping isolate issues by maintaining consistent behavior.\n",
    "- Fair Comparison: Allowing fair comparison between different models or techniques.\n",
    "- Cross-validation: Ensuring consistent data splits in cross-validation procedures.\n",
    "\n",
    "## Best Practices\n",
    "\n",
    "- Set a random seed at the beginning of your script or notebook.\n",
    "- Document the seed used in your experiments.\n",
    "- Run experiments with different seeds to ensure robustness of your results.\n",
    "- When using frameworks like PyTorch or TensorFlow, use their specific random seed setting functions for full reproducibility.\n",
    "\n",
    "## Conclusion\n",
    "Random seed generation is a simple yet crucial aspect of machine learning experiments. By properly managing random seeds, we can ensure reproducibility and consistency in our results, leading to more reliable and trustworthy machine learning models."
   ]
  }
 ],
 "metadata": {
  "kernelspec": {
   "display_name": "Delenox",
   "language": "python",
   "name": "python3"
  },
  "language_info": {
   "codemirror_mode": {
    "name": "ipython",
    "version": 3
   },
   "file_extension": ".py",
   "mimetype": "text/x-python",
   "name": "python",
   "nbconvert_exporter": "python",
   "pygments_lexer": "ipython3",
   "version": "3.9.16"
  }
 },
 "nbformat": 4,
 "nbformat_minor": 2
}
