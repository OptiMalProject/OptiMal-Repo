{
 "cells": [
  {
   "cell_type": "markdown",
   "metadata": {},
   "source": [
    "# One-Hot Encoding\n",
    "\n",
    "This notebook demonstrates the concept of one-hot encoding, its importance in machine learning, and how to implement it in Python.\n",
    "\n",
    "## Introduction\n",
    "\n",
    "One-hot encoding is a technique used to represent categorical variables as binary vectors. It's an essential preprocessing step for many machine learning algorithms that work with numerical data.\n",
    "\n",
    "## Implementation\n",
    "\n",
    "We'll implement one-hot encoding using Python's built-in tools and the popular libraries pandas and scikit-learn."
   ]
  },
  {
   "cell_type": "code",
   "execution_count": null,
   "metadata": {},
   "outputs": [],
   "source": [
    "import pandas as pd\n",
    "from sklearn.preprocessing import OneHotEncoder\n",
    "import numpy as np\n",
    "\n",
    "def one_hot_encode(data, column):\n",
    "    encoder = OneHotEncoder(sparse_output=False)\n",
    "    encoded = encoder.fit_transform(data[[column]])\n",
    "    new_columns = [f\"{column}_{cat}\" for cat in encoder.categories_[0]]\n",
    "    encoded_df = pd.DataFrame(encoded, columns=new_columns, index=data.index)\n",
    "    result = pd.concat([data.drop(column, axis=1), encoded_df], axis=1)\n",
    "    return result\n",
    "\n",
    "data = pd.DataFrame({\n",
    "    'color': ['red', 'blue', 'green', 'red', 'green'],\n",
    "})\n",
    "\n",
    "print(\"Original data:\")\n",
    "print(data)\n",
    "\n",
    "encoded_data = one_hot_encode(data, 'color')\n",
    "print(\"\\nOne-hot encoded data:\")\n",
    "print(encoded_data)"
   ]
  },
  {
   "cell_type": "markdown",
   "metadata": {},
   "source": [
    "## Demonstrating One-Hot Encoding\n",
    "\n",
    "Let's create an example to show how one-hot encoding transforms categorical data."
   ]
  },
  {
   "cell_type": "code",
   "execution_count": null,
   "metadata": {},
   "outputs": [],
   "source": [
    "# More complex example\n",
    "data = pd.DataFrame({\n",
    "    'fruit': ['apple', 'banana', 'apple', 'cherry', 'banana'],\n",
    "    'size': ['small', 'large', 'medium', 'small', 'medium'],\n",
    "    'price': [0.5, 0.8, 0.6, 0.7, 0.9]\n",
    "})\n",
    "\n",
    "print(\"Original data:\")\n",
    "print(data)\n",
    "\n",
    "# Encode 'fruit' column\n",
    "encoded_fruit = one_hot_encode(data, 'fruit')\n",
    "print(\"\\nData with 'fruit' encoded:\")\n",
    "print(encoded_fruit)\n",
    "\n",
    "# Encode 'size' column\n",
    "fully_encoded = one_hot_encode(encoded_fruit, 'size')\n",
    "print(\"\\nFully encoded data:\")\n",
    "print(fully_encoded)"
   ]
  },
  {
   "cell_type": "markdown",
   "metadata": {},
   "source": [
    "## Importance in Machine Learning\n",
    "One-hot encoding is crucial in machine learning for several reasons:\n",
    "\n",
    "- Numerical Representation: It allows categorical data to be represented numerically, which is required for many ML algorithms.\n",
    "- No Ordinal Relationship: It avoids implying an ordinal relationship where none exists.\n",
    "- Feature Expansion: It can increase the expressiveness of the data by expanding the feature space.\n",
    "\n",
    "## Best Practices\n",
    "\n",
    "- For high-cardinality categorical variables, consider other encoding methods like feature hashing.\n",
    "- Remember that one-hot encoding can significantly increase the dimensionality of your dataset.\n",
    "- When using tree-based models, one-hot encoding might not always be necessary, as these models can often handle categorical data directly.\n"
   ]
  },
  {
   "cell_type": "markdown",
   "metadata": {},
   "source": [
    "## Handling Unknown Categories\n",
    "\n",
    "When deploying models, you might encounter categories not seen during training. Here's how to handle this:"
   ]
  },
  {
   "cell_type": "code",
   "execution_count": null,
   "metadata": {},
   "outputs": [],
   "source": [
    "from sklearn.preprocessing import OneHotEncoder\n",
    "\n",
    "# Create encoder with 'handle_unknown' set to 'ignore'\n",
    "encoder = OneHotEncoder(sparse=False, handle_unknown='ignore')\n",
    "\n",
    "# Fit the encoder on training data\n",
    "train_data = np.array([['red'], ['blue'], ['green']])\n",
    "encoder.fit(train_data)\n",
    "\n",
    "# Transform new data, including an unknown category\n",
    "new_data = np.array([['red'], ['yellow'], ['blue']])\n",
    "encoded_new_data = encoder.transform(new_data)\n",
    "\n",
    "print(\"Encoded new data (including unknown category):\")\n",
    "print(encoded_new_data)"
   ]
  },
  {
   "cell_type": "markdown",
   "metadata": {},
   "source": [
    "## Conclusion\n",
    "\n",
    "One-hot encoding is a fundamental technique in preparing categorical data for machine learning models. By converting categories into binary vectors, we make the data suitable for a wide range of algorithms. However, it's important to be aware of its impact on dimensionality and to consider alternative encoding methods for high-cardinality features."
   ]
  }
 ],
 "metadata": {
  "kernelspec": {
   "display_name": "Delenox",
   "language": "python",
   "name": "python3"
  },
  "language_info": {
   "codemirror_mode": {
    "name": "ipython",
    "version": 3
   },
   "file_extension": ".py",
   "mimetype": "text/x-python",
   "name": "python",
   "nbconvert_exporter": "python",
   "pygments_lexer": "ipython3",
   "version": "3.9.16"
  }
 },
 "nbformat": 4,
 "nbformat_minor": 2
}
