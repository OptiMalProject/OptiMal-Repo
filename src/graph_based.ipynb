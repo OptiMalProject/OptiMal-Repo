{
 "cells": [
  {
   "cell_type": "markdown",
   "source": [
    "# Graph-based Representations\n",
    "\n",
    "Graph is a type of data structure as well as a way of explaining the relationship between objects. The key components in a graph are nodes (or vertices) and edges (or links). Nodes represent for the objects needs to be considered in a model, such as cities in a traffic network. Edges represent the connection between nodes, such as distances between cities. \n",
    "\n",
    "## Type of Graphs\n",
    "- Weighted/Unweighted graph: edges do/do not have weights. The distance between cities mentioned above is a kind of weight.\n",
    "- Directed/Undirected graph: edges have a one-way/two-way direction. A mutual relationship can be represented as an undirected graph, while a follower relationship of a social account is only a directed graph."
   ],
   "metadata": {
    "collapsed": false
   },
   "id": "4d2eab8cc1b061b2"
  },
  {
   "cell_type": "markdown",
   "source": [
    "## Implementation\n",
    "\n",
    "In this notebook, we are going to demonstrate how to represent an undirected weighted graph in an adjacency matrix and adjacency list. This is the graph example:\n",
    "\n",
    "![graph_example](../examples/Graph_Example.png)\n",
    "\n",
    "### Adjacency matrix\n",
    "\n",
    "Adjacency matrix is a n*n matrix where n stands for the number of nodes. In this notebook, we use list to initialize it. In the matrix, 0 means that there are no edges between two nodes."
   ],
   "metadata": {
    "collapsed": false
   },
   "id": "58320df768cf8304"
  },
  {
   "cell_type": "code",
   "execution_count": 14,
   "outputs": [],
   "source": [
    "class AdjacencyMatrix:\n",
    "    def __init__(self, n, directed=False):\n",
    "        self.n = n\n",
    "        self.direction = directed\n",
    "        # Initialize a matrix with n rows and columns\n",
    "        self.adj_matrix = [[0 for column in range(n)] \n",
    "                            for row in range(n)]\n",
    "\n",
    "    def add_edge(self, node1, node2, weight=1):\n",
    "        # Convert character nodes to integer keys\n",
    "        n1 = ord(node1) - 65\n",
    "        n2 = ord(node2) - 65\n",
    "        self.adj_matrix[n1][n2] = weight\n",
    "        # If the graph is undirected, it adds an edge from node2 to node1\n",
    "        if not self.direction:\n",
    "            self.adj_matrix[n2][n1] = weight\n",
    "\n",
    "    def print_adj_matrix(self):\n",
    "        print(self.adj_matrix)"
   ],
   "metadata": {
    "collapsed": false,
    "ExecuteTime": {
     "end_time": "2024-07-31T06:17:39.567957900Z",
     "start_time": "2024-07-31T06:17:39.558954200Z"
    }
   },
   "id": "5d6645193862fe0c"
  },
  {
   "cell_type": "code",
   "execution_count": null,
   "outputs": [],
   "source": [
    "# Create the graph\n",
    "graph_matrix = AdjacencyMatrix(5)\n",
    "graph_matrix.add_edge('A', 'C', 10)\n",
    "graph_matrix.add_edge('A', 'E', 18)\n",
    "graph_matrix.add_edge('B', 'C', 6)\n",
    "graph_matrix.add_edge('B', 'D', 20)\n",
    "graph_matrix.add_edge('C', 'E', 12)\n",
    "graph_matrix.add_edge('D', 'E', 9)\n",
    "# print the adjacency list\n",
    "graph_matrix.print_adj_matrix()"
   ],
   "metadata": {
    "collapsed": false
   },
   "id": "a15985ceceff0c9b"
  },
  {
   "cell_type": "markdown",
   "source": [
    "### Adjacency list\n",
    "\n",
    "We use dictionary to represent an adjacency list. One key stands for one node, and its corresponding values are the edges between nodes."
   ],
   "metadata": {
    "collapsed": false
   },
   "id": "b7eda36ad7ce4a33"
  },
  {
   "cell_type": "code",
   "execution_count": 12,
   "outputs": [],
   "source": [
    "class AdjacencyList:\n",
    "    def __init__(self, n, directed=False):\n",
    "        self.n = n\n",
    "        self.direction = directed\n",
    "        self.adj_list = {node: set() for node in range(n)}      \n",
    "\n",
    "    def add_edge(self, node1, node2, weight):\n",
    "        # Convert character nodes to integer keys\n",
    "        n1 = ord(node1) - 65\n",
    "        n2 = ord(node2) - 65\n",
    "        self.adj_list[n1].add((node2, weight))\n",
    "        # If the graph is undirected, it adds an edge from node2 to node1\n",
    "        if not self.direction:\n",
    "        \tself.adj_list[n2].add((node1, weight))\n",
    "\n",
    "    def print_adj_list(self):\n",
    "        for key in self.adj_list.keys():\n",
    "            print(\"node\", chr(key+65), \": \", self.adj_list[key])"
   ],
   "metadata": {
    "collapsed": false,
    "ExecuteTime": {
     "end_time": "2024-07-31T06:14:00.282585900Z",
     "start_time": "2024-07-31T06:14:00.265585600Z"
    }
   },
   "id": "bd57b64b2197893"
  },
  {
   "cell_type": "code",
   "execution_count": null,
   "outputs": [],
   "source": [
    "# Create the graph\n",
    "graph_list = AdjacencyList(5)\n",
    "graph_list.add_edge('A', 'C', 10)\n",
    "graph_list.add_edge('A', 'E', 18)\n",
    "graph_list.add_edge('B', 'C', 6)\n",
    "graph_list.add_edge('B', 'D', 20)\n",
    "graph_list.add_edge('C', 'E', 12)\n",
    "graph_list.add_edge('D', 'E', 9)\n",
    "# print the adjacency list\n",
    "graph_list.print_adj_list()"
   ],
   "metadata": {
    "collapsed": false
   },
   "id": "9c77f5b6c89d4a9a"
  },
  {
   "cell_type": "markdown",
   "source": [
    "## Best Practices\n",
    "- Try graph-based representation if you want to effectively demonstrate a structure of a system and analyze its complex relationships.\n",
    "- If you choose to represent your data in graph, check the number of edges and nodes. If the number of edges is much smaller than the square of the number of vertices, it is viewed as a sparse graph. Use adjacency list is more efficient. For dense graphs or situations you need to quickly query the edges between nodes, use adjacency matrix.\n",
    "- Try to compress or simplify your data representation if you have a large-scale graph."
   ],
   "metadata": {
    "collapsed": false
   },
   "id": "7ac0d7e9cea9f8fe"
  }
 ],
 "metadata": {
  "kernelspec": {
   "display_name": "Python 3",
   "language": "python",
   "name": "python3"
  },
  "language_info": {
   "codemirror_mode": {
    "name": "ipython",
    "version": 2
   },
   "file_extension": ".py",
   "mimetype": "text/x-python",
   "name": "python",
   "nbconvert_exporter": "python",
   "pygments_lexer": "ipython2",
   "version": "2.7.6"
  }
 },
 "nbformat": 4,
 "nbformat_minor": 5
}
