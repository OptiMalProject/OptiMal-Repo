{
 "cells": [
  {
   "cell_type": "markdown",
   "source": [
    "# Sequence Mining - Frequent Subsequences\n",
    "\n",
    "Sequence mining is a topic about finding relevant patterns between data examples. Analyzing the patterns that occurs the most can help us discover interesting behaviors hidden in the datasets. \n",
    "\n",
    "## Implementation\n",
    "\n",
    "In this notebook, we analyze the tile patterns of a sokoban level. Initialize a sokoban level, import `numpy` library to convert it to array.  "
   ],
   "metadata": {
    "collapsed": false
   },
   "id": "141482816ed4eb4c"
  },
  {
   "cell_type": "code",
   "execution_count": null,
   "outputs": [],
   "source": [
    "# tile representation\n",
    "BLOCK = {\n",
    "    'WALL': '#',\n",
    "    'BOX': '$',\n",
    "    'TARGET': '*',\n",
    "    'PLAYER': '@',\n",
    "    'ROAD': '-'\n",
    "}\n",
    "# level representation\n",
    "level = [\n",
    "            ['#', '#', '#', '#', '#', '#'],\n",
    "            ['#', '-', '-', '-', '*', '#'],\n",
    "            ['#', '-', '$', '#', '-', '#'],\n",
    "            ['#', '*', '-', '#', '#', '#'],\n",
    "            ['#', '-', '-', '@', '-', '#'],\n",
    "            ['#', '-', '$', '-', '-', '#'],\n",
    "            ['#', '#', '#', '#', '#', '#'],\n",
    "        ]\n",
    "\n",
    "import numpy as np\n",
    "\n",
    "level = np.array(level)\n",
    "print(level)"
   ],
   "metadata": {
    "collapsed": false
   },
   "id": "609ebd6155e33863"
  },
  {
   "cell_type": "markdown",
   "source": [
    "Next, define the size of the matrix extracted from the two-dimensional array level. All possible 2x2 subsequences are recorded as flattened string in the dictionary map."
   ],
   "metadata": {
    "collapsed": false
   },
   "id": "4d169eeaec269a7b"
  },
  {
   "cell_type": "code",
   "execution_count": null,
   "outputs": [],
   "source": [
    "# fh stands for filter height, fw stands for filter width\n",
    "fh = 2\n",
    "fw = 2\n",
    "def lv2map(lv: np.ndarray, fh=2, fw=2):\n",
    "    map = {}\n",
    "    h, w = lv.shape\n",
    "    print(\"All subsequences of 2*2 in this level:\")\n",
    "    for i in range(h - fh + 1):\n",
    "        for j in range(w - fw + 1):\n",
    "            print((lv[i:i + fh, j:j + fw]))\n",
    "            k1 = (lv[i:i + fh, j:j + fw]).flatten()\n",
    "            k = ''.join(k1)\n",
    "            # k = tuple((lv[i:i + fh, j:j + fw]).flatten())\n",
    "            if k in map.keys():\n",
    "                map[k] = (map[k] + 1)\n",
    "            else:\n",
    "                map[k] = 1\n",
    "    return map\n",
    "\n",
    "frequency = lv2map(level, fh, fw)\n",
    "print(\"subsequences and its frequency:\")\n",
    "print(frequency)"
   ],
   "metadata": {
    "collapsed": false
   },
   "id": "940e1cccc8a701dd"
  },
  {
   "cell_type": "markdown",
   "source": [
    "import `collection` library, initializes a dictionary dct whose default value is an empty list. Iterate over all key-value pairs of the original dictionary and rearrange them according to their frequency of occurrence. Output the top n most frequent subsequences."
   ],
   "metadata": {
    "collapsed": false
   },
   "id": "bce165a380cb4258"
  },
  {
   "cell_type": "code",
   "execution_count": null,
   "outputs": [],
   "source": [
    "from collections import defaultdict\n",
    "def top_n(d, n):\n",
    "    dct = defaultdict(list) \n",
    "    for k, v in d.items():\n",
    "        dct[v].append(k)\n",
    "    print(\"Show all subsequences with the same frequency:\")\n",
    "    print(dct.items())\n",
    "    return sorted(dct.items(), reverse=True)[:n]\n",
    "\n",
    "frequent_sub = top_n(frequency, 1)\n",
    "print(\"Frequent subsequences:\")\n",
    "print(frequent_sub)\n",
    "\n",
    "fre_lst = frequent_sub[0][1]\n",
    "for pattern in fre_lst:\n",
    "    print(pattern[:fw])\n",
    "    print(pattern[fw:])\n",
    "    print()"
   ],
   "metadata": {
    "collapsed": false
   },
   "id": "70aad745fa76c45"
  },
  {
   "cell_type": "markdown",
   "source": [
    "Let's try a more complex example on a Super Mario Bros level. The txt file is the representation of the level below.\n",
    "\n",
    "![smb_level](../examples/Mario_Render.png)"
   ],
   "metadata": {
    "collapsed": false
   },
   "id": "c78df6315efdef68"
  },
  {
   "cell_type": "code",
   "execution_count": null,
   "outputs": [],
   "source": [
    "read_level = []\n",
    "with open('../examples/Mario.txt', 'r') as f:\n",
    "    for line in f:\n",
    "        read_level.append(line.strip())\n",
    "        print(line.strip())"
   ],
   "metadata": {
    "collapsed": false
   },
   "id": "689eed9c5a815220"
  },
  {
   "cell_type": "code",
   "execution_count": null,
   "outputs": [],
   "source": [
    "smb_level = []\n",
    "for line in read_level:\n",
    "    smb_level.append(list(line))\n",
    "print(smb_level)"
   ],
   "metadata": {
    "collapsed": false
   },
   "id": "6c01c59844d69fb3"
  },
  {
   "cell_type": "code",
   "execution_count": null,
   "outputs": [],
   "source": [
    "smb_level = np.array(smb_level)\n",
    "smb_fh = 6\n",
    "smb_fw = 6\n",
    "smb_frequency = lv2map(smb_level, smb_fh, smb_fw)\n",
    "print(\"subsequences and its frequency:\")\n",
    "print(smb_frequency)\n",
    "\n",
    "smb_sub = top_n(smb_frequency, 5)\n",
    "print(\"Frequent subsequences:\")\n",
    "print(smb_sub)\n",
    "\n",
    "# Since sky occupies a large area in a level, we print the second most frequent sequence in matrix form\n",
    "fre_sequence = smb_sub[1][1]\n",
    "print(\"One of the frequent subsequences:\")\n",
    "print(fre_sequence)\n",
    "print(\"In matrix form:\")\n",
    "for s in fre_sequence:\n",
    "    for i in range(0, smb_fw*smb_fh, smb_fw):\n",
    "        print(s[i:i+6])"
   ],
   "metadata": {
    "collapsed": false
   },
   "id": "48bd67ab1eef91ce"
  }
 ],
 "metadata": {
  "kernelspec": {
   "display_name": "Python 3",
   "language": "python",
   "name": "python3"
  },
  "language_info": {
   "codemirror_mode": {
    "name": "ipython",
    "version": 2
   },
   "file_extension": ".py",
   "mimetype": "text/x-python",
   "name": "python",
   "nbconvert_exporter": "python",
   "pygments_lexer": "ipython2",
   "version": "2.7.6"
  }
 },
 "nbformat": 4,
 "nbformat_minor": 5
}
