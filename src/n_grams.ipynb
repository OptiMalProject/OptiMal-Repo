{
 "cells": [
  {
   "cell_type": "markdown",
   "source": [
    "# N-grams\n",
    "\n",
    "N-grams are continuous sequences of n items (words, symbols, tokens) in a document. They have a wide range of applications in text analysis in the field of natural language processing (NLP). When n=1, it is called unigram, which split the sentence into individual words. When n=2, it's called bigram, and when n=3 it's trigram. If n>3, n-gram can be any number of consecutive words or character combinations. They provide powerful support for various NLP tasks like predicting the probability of the next word in a sentence, classifying text based on their features, translating source language to target language and checking spelling errors. "
   ],
   "metadata": {
    "collapsed": false
   },
   "id": "d845adb23fbc8688"
  },
  {
   "cell_type": "markdown",
   "source": [
    "## Implementation\n",
    "\n",
    "First, we create an example on how to generate n-grams. In order to obtain the sequences suitable for n-gram generalization, we need to split sentence into tokens."
   ],
   "metadata": {
    "collapsed": false
   },
   "id": "cf92b0e6e8daf5de"
  },
  {
   "cell_type": "code",
   "execution_count": 13,
   "outputs": [
    {
     "name": "stdout",
     "output_type": "stream",
     "text": [
      "Words after splitting:\n",
      "['this', 'is', 'a', 'notebook', 'for', 'n-grams', 'demonstration', 'we', 'will', 'show', 'how', 'to', 'generate', 'n-grams']\n",
      "Generated n-grams:\n",
      "['this', 'is', 'a', 'notebook', 'for', 'n-grams', 'demonstration', 'we', 'will', 'show', 'how', 'to', 'generate', 'n-grams']\n"
     ]
    }
   ],
   "source": [
    "import re\n",
    "\n",
    "text = \"This is a notebook for n-grams demonstration, we will show how to generate n-grams.\"\n",
    "# try unigram (when n=1)\n",
    "def get_tokens(text):\n",
    "    # Convert letters to lower case and split them to words\n",
    "    tokens = re.sub(r'[^a-zA-Z\\s-]', '', text.lower())\n",
    "    tokens = tokens.split()\n",
    "    # remove empty strings\n",
    "    tokens = list(filter(None, tokens))\n",
    "    return tokens\n",
    "\n",
    "tokens = get_tokens(text)\n",
    "print(\"Words after splitting:\")\n",
    "print(tokens)\n",
    "\n",
    "def generate_ngrams(tokens, n):\n",
    "    n_grams = []\n",
    "    length = len(tokens) - n + 1\n",
    "    for i in range(length):\n",
    "        item = ' '.join(tokens[i:i+n])\n",
    "        n_grams.append(item)\n",
    "    return n_grams\n",
    "\n",
    "unigrams = generate_ngrams(tokens, 1)\n",
    "print(\"Generated n-grams:\")\n",
    "print(unigrams)"
   ],
   "metadata": {
    "collapsed": false,
    "ExecuteTime": {
     "end_time": "2024-07-30T05:33:03.530208700Z",
     "start_time": "2024-07-30T05:33:03.520207700Z"
    }
   },
   "id": "99e7f115619bb20b"
  },
  {
   "cell_type": "markdown",
   "source": [
    "Try different Ns in n-gram generation."
   ],
   "metadata": {
    "collapsed": false
   },
   "id": "369f50b85e32653b"
  },
  {
   "cell_type": "code",
   "execution_count": 14,
   "outputs": [
    {
     "name": "stdout",
     "output_type": "stream",
     "text": [
      "Generated n-grams:\n",
      "['this is', 'is a', 'a notebook', 'notebook for', 'for n-grams', 'n-grams demonstration', 'demonstration we', 'we will', 'will show', 'show how', 'how to', 'to generate', 'generate n-grams']\n",
      "Generated n-grams:\n",
      "['this is a notebook for', 'is a notebook for n-grams', 'a notebook for n-grams demonstration', 'notebook for n-grams demonstration we', 'for n-grams demonstration we will', 'n-grams demonstration we will show', 'demonstration we will show how', 'we will show how to', 'will show how to generate', 'show how to generate n-grams']\n"
     ]
    }
   ],
   "source": [
    "# bigram\n",
    "bigrams = generate_ngrams(tokens, 2)\n",
    "print(\"Generated n-grams:\")\n",
    "print(bigrams)\n",
    "\n",
    "# n higher than 3\n",
    "n_grams = generate_ngrams(tokens, 5)\n",
    "print(\"Generated n-grams:\")\n",
    "print(n_grams)"
   ],
   "metadata": {
    "collapsed": false,
    "ExecuteTime": {
     "end_time": "2024-07-30T05:33:18.961198700Z",
     "start_time": "2024-07-30T05:33:18.942194900Z"
    }
   },
   "id": "984cd0346a09e5b1"
  },
  {
   "cell_type": "markdown",
   "source": [
    "N-gram representation is a little different, it is treated as linear sequences of vertical level slices. Reference paper: [Linear levels through n-grams](https://dl.acm.org/doi/10.1145/2676467.2676506)."
   ],
   "metadata": {
    "collapsed": false
   },
   "id": "6ac3213f705ed6ff"
  },
  {
   "cell_type": "code",
   "execution_count": 21,
   "outputs": [
    {
     "name": "stdout",
     "output_type": "stream",
     "text": [
      "['-', '-', '-', '-', '-', '-', '-', '-', '-', '-', '-', '-', '-', '-', 'X', 'X']\n"
     ]
    }
   ],
   "source": [
    "read_level = []\n",
    "with open('../examples/Mario.txt', 'r') as f:\n",
    "    for line in f:\n",
    "        read_level.append(line.strip())\n",
    "\n",
    "smb_level = []\n",
    "for line in read_level:\n",
    "    smb_level.append(list(line))\n",
    "    \n",
    "# one slice in a smb level\n",
    "gram = [col[0] for col in smb_level]\n",
    "print(gram)"
   ],
   "metadata": {
    "collapsed": false,
    "ExecuteTime": {
     "end_time": "2024-07-30T05:47:56.038285500Z",
     "start_time": "2024-07-30T05:47:56.014285Z"
    }
   },
   "id": "575b44bac47b9d4e"
  },
  {
   "cell_type": "markdown",
   "source": [
    "## Best Practices\n",
    "- Remember to preprocess your data before generating n-grams, such as converting letter case and removing punctuation marks.\n",
    "- Select n value that is more suitable for your training target. Increase of n leads to data sparsity and high computational complexity.\n",
    "- As n increases, the number of n-grams combinations increases exponentially, resulting in a low frequency of many sequences in the training data. While dealing with data sparsity, smoothing techniques such as Laplace Smoothing can be applied."
   ],
   "metadata": {
    "collapsed": false
   },
   "id": "25d0e0a42b9e9bdc"
  }
 ],
 "metadata": {
  "kernelspec": {
   "display_name": "Python 3",
   "language": "python",
   "name": "python3"
  },
  "language_info": {
   "codemirror_mode": {
    "name": "ipython",
    "version": 2
   },
   "file_extension": ".py",
   "mimetype": "text/x-python",
   "name": "python",
   "nbconvert_exporter": "python",
   "pygments_lexer": "ipython2",
   "version": "2.7.6"
  }
 },
 "nbformat": 4,
 "nbformat_minor": 5
}
