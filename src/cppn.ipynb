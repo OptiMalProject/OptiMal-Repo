{
 "cells": [
  {
   "cell_type": "markdown",
   "metadata": {},
   "source": [
    "# Compositional Pattern Producing Networks (CPPNs)\n",
    "\n",
    "CPPNs are a type of artificial neural network that generate patterns by taking spatial coordinates as inputs and producing outputs that can be interpreted as pixel intensities, colors, or other attributes relevant to visual patterns. CPPNs are characterized by their ability to produce complex, high-resolution, and aesthetically interesting designs that exhibit symmetries and other natural characteristics, often used in the fields of evolutionary art and design. They differ from traditional neural networks in that their architecture can include a variety of activation functions, which are chosen to enhance the patterns' complexity and diversity.\n",
    "\n",
    "<img \n",
    "    style=\"display: block; \n",
    "           margin-left: auto;\n",
    "           margin-right: auto;\n",
    "           width: 60%;\"\n",
    "    src=\"../Examples/CPPN_Visuals.png\" \n",
    "    alt=\"Our logo\">\n",
    "</img>\n",
    "\n",
    "CPPNS are typically evolved using the NeuroEvolution of Augmenting Topologies (NEAT) algorithm, which is an evolutionary algorithm that creates and optimizes neural networks. Developed by Kenneth O. Stanley, NEAT starts with a simple initial population of neural networks and evolves them over time through genetic algorithms. It innovatively combines both the topology and the weights of the networks, allowing for the evolution of increasingly complex structures from simple beginnings. NEAT's key features include protecting innovation through speciation, incrementally growing from minimal structure, and using historical markings to track genes across generations, making it highly effective for tasks where both the structure and weights of a neural network need to be optimized simultaneously.\n",
    "\n",
    "CPPN-NEAT implementation from [neat-python](https://github.com/CodeReclaimers/neat-python)."
   ]
  },
  {
   "cell_type": "markdown",
   "metadata": {},
   "source": [
    "## Initializing NEAT-Python\n",
    "\n",
    "First, we must import the neccessary libraries, and load the configuration file used by NEAT python to evolve genomes."
   ]
  },
  {
   "cell_type": "code",
   "execution_count": null,
   "metadata": {},
   "outputs": [],
   "source": [
    "import neat\n",
    "import numpy as np\n",
    "import matplotlib.pyplot as plt\n",
    "from scipy.special import softmax\n",
    "\n",
    "def load_config(filename):\n",
    "    genome = neat.DefaultGenome\n",
    "    reproduction = neat.DefaultReproduction\n",
    "    species_set = neat.DefaultSpeciesSet\n",
    "    stagnation_method = neat.DefaultStagnation\n",
    "    try:\n",
    "        config = neat.Config(genome, reproduction, species_set, stagnation_method, filename)\n",
    "    except:\n",
    "        print(\"Config file could not be found, please make sure the filename is correct and exists in the target directory.\")\n",
    "        config = None\n",
    "    return config\n",
    "\n",
    "config = load_config(f\"../Examples/neat.cfg\")"
   ]
  },
  {
   "cell_type": "markdown",
   "metadata": {},
   "source": [
    "## Generating the Phenotype\n",
    "\n",
    "In this notebook, our phenotype is a 3D lattice of voxels (i.e., 3D pixels) which can be in one of two states, on or off.  To generate a lattice, we iterate over the XYZ coordinates and feed these values to the genome (CPPN), recording its output. We apply a sigmoid activation function to the final output to ensure the value is between 0 and 1, and round it to the nearest integer to indicate the presence of a voxel."
   ]
  },
  {
   "cell_type": "code",
   "execution_count": null,
   "metadata": {},
   "outputs": [],
   "source": [
    "def create_cppn_neat(genome, config, size=20):\n",
    "    net = neat.nn.FeedForwardNetwork.create(genome, config)\n",
    "    voxels = np.zeros((size, size, size), dtype=float)\n",
    "    for x in range(size):\n",
    "        for y in range(size):\n",
    "            for z in range(size):\n",
    "                input_coordinates = (x / size * 2 - 1, y / size * 2 - 1, z / size * 2 - 1)\n",
    "                output = net.activate(input_coordinates)[0]\n",
    "                sigmoid_output = np.round(1 / (1 + np.exp(-output)))\n",
    "                voxels[x, y, z] = sigmoid_output > 0.5\n",
    "    return voxels\n"
   ]
  },
  {
   "cell_type": "markdown",
   "metadata": {},
   "source": [
    "## Defining our fitness function, and the evaluation loop\n",
    "\n",
    "In this example, we evaluate genomes based on the diversity of their output. For diversity, we use the Kullback-Leibler (KL) divergence metric. We assign fitness by calculating the KL divergence to every other individual in the population, and take the average of the K (10) nearest neighbors."
   ]
  },
  {
   "cell_type": "code",
   "execution_count": null,
   "metadata": {},
   "outputs": [],
   "source": [
    "k = 10\n",
    "lattice_size = 5\n",
    "\n",
    "def kl_divergence(p, q):\n",
    "    return np.sum(p * np.log(p / q))\n",
    "\n",
    "def eval_genomes(genomes, config):\n",
    "\n",
    "    voxel_distributions = {}\n",
    "\n",
    "    # Generate the phenotypes in advance to save on redundant computation\n",
    "    for genome_id, genome in genomes:\n",
    "        voxel_distribution = softmax(create_cppn_neat(genome, config, lattice_size).ravel())\n",
    "        voxel_distributions.update({genome_id: voxel_distribution})\n",
    "\n",
    "    for genome_id, genome in genomes:\n",
    "        voxel_distribution = voxel_distributions[genome_id]\n",
    "        distances = []\n",
    "\n",
    "        if np.sum(voxel_distribution) == 0:\n",
    "            genome.fitness = -1000\n",
    "        else:\n",
    "            for other_id, _ in genomes:\n",
    "                target_distribution = voxel_distributions[other_id]\n",
    "                if np.sum(target_distribution) == 0:\n",
    "                    continue\n",
    "                if genome_id == other_id:\n",
    "                    continue\n",
    "                distances.append(kl_divergence(voxel_distribution, target_distribution))\n",
    "            distances = sorted(distances, reverse=True)\n",
    "            genome.fitness = np.mean(distances[:k])"
   ]
  },
  {
   "cell_type": "markdown",
   "metadata": {},
   "source": [
    "## Running NEAT\n",
    "\n",
    "Next, we run NEAT for the specified number of generations, and attach a reporter to output results after every generation, and a statistics tracker provided by the NEAT-Python library."
   ]
  },
  {
   "cell_type": "code",
   "execution_count": null,
   "metadata": {},
   "outputs": [],
   "source": [
    "p = neat.Population(config)\n",
    "p.add_reporter(neat.StdOutReporter(True))\n",
    "stats = neat.StatisticsReporter()\n",
    "p.add_reporter(stats)\n",
    "winner_genome = p.run(eval_genomes, 50)"
   ]
  },
  {
   "cell_type": "markdown",
   "metadata": {},
   "source": [
    "\n",
    "## Genome Complexity\n",
    "\n",
    "For the sake of this example notebook, we set the probability to add nodes/connections to 25%, and the probability to remove nodes to 0%. This means the networks should mostly grow in both the number of nodes and number of connections over time. We plot these results by looking at the most fit genomes from each generation and visualizing these properties on a graph."
   ]
  },
  {
   "cell_type": "code",
   "execution_count": null,
   "metadata": {},
   "outputs": [],
   "source": [
    "def plot_complexity(statistics):\n",
    "    generation = range(len(statistics.most_fit_genomes))\n",
    "    num_nodes = [c.size()[0] for c in statistics.most_fit_genomes]\n",
    "    num_conns = [c.size()[1] for c in statistics.most_fit_genomes]\n",
    "\n",
    "    plt.figure(figsize=(12, 5))\n",
    "    plt.subplot(1, 2, 1)\n",
    "    plt.plot(generation, num_nodes)\n",
    "    plt.title('Node Complexity Over Generations')\n",
    "    plt.xlabel('Generations')\n",
    "    plt.ylabel('Number of Nodes')\n",
    "\n",
    "    plt.subplot(1, 2, 2)\n",
    "    plt.plot(generation, num_conns)\n",
    "    plt.title('Connection Complexity Over Generations')\n",
    "    plt.xlabel('Generations')\n",
    "    plt.ylabel('Number of Connections')\n",
    "    plt.show()\n",
    "\n",
    "plot_complexity(stats)"
   ]
  },
  {
   "cell_type": "markdown",
   "metadata": {},
   "source": [
    "## Visualizing Phenotype\n",
    "\n",
    "Finally, we can also visualize the outputs of the genome using matplotlib. In the below example, we take the best genome from the final generation and plot it in 3D using the voxel() function. "
   ]
  },
  {
   "cell_type": "code",
   "execution_count": null,
   "metadata": {},
   "outputs": [],
   "source": [
    "def voxel_plot(lattice, title):\n",
    "    fig = plt.figure()\n",
    "    ax = fig.add_subplot(111, projection='3d')\n",
    "    ax.voxels(lattice, edgecolor=\"k\")\n",
    "    ax.set_title(title)\n",
    "    ax.set_axis_off()\n",
    "    plt.show()\n",
    "\n",
    "winner_voxels = create_cppn_neat(winner_genome, config)\n",
    "voxel_plot(winner_voxels, 'Most Unique Lattice')"
   ]
  },
  {
   "cell_type": "markdown",
   "metadata": {},
   "source": [
    "## Best Practices\n",
    "\n",
    "### 1. Appropriate Fitness Function\n",
    "Choose or design a fitness function that meaningfully relates to the task at hand. For CPPNs, which often generate patterns or structures, the fitness function should appropriately evaluate the quality or usefulness of these outputs. Ensure the fitness function is scaled or normalized to handle the range of possible output values, especially when comparing across different scales of complexity.\n",
    "\n",
    "### 2. Start Simple\n",
    "Incremental Growth: Begin with simple network architectures and allow NEAT to incrementally increase complexity. This avoids premature convergence on suboptimal architectures and promotes thorough exploration of simpler solutions that might be more efficient.\\\n",
    "\n",
    "### 3. Diversity Through Speciation\n",
    "Use speciation to protect new mutations, allowing them to mature. This is crucial for maintaining genetic diversity within the population, which is a core advantage of NEAT. Tune speciation parameters (compatitibility threshold in the configuration file) carefully to balance between too much and too little competition within species.\n",
    "\n",
    "### 4. Topology and Mutation Rates\n",
    "Experiment with different mutation rates for adding nodes and connections. The balance between exploration (trying new things) and exploitation (refining existing solutions) is key. Consider implementing dynamic adjustment of mutation rates based on the performance progress over generations.\n",
    "\n",
    "### 5. Parameter Tuning\n",
    "NEAT has several parameters (e.g., crossover rates, mutation rates, compatibility threshold for speciation). Systematically tune these parameters for your specific application. Employ grid search or more advanced techniques like Bayesian optimization to find optimal parameter sets.\n",
    "\n",
    "### 6. Scalability and Efficiency\n",
    "Utilize parallel computing resources to evaluate genomes in parallel, reducing the total evolutionary time and increasing scalability.\n",
    "\n",
    "### 7. Visualization and Analysis\n",
    "Visualize and analyze the evolution process regularly (e.g., changes in genome complexity, fitness landscapes). This can provide insights into evolutionary dynamics and help in adjusting strategies. Regularly inspect the outputs (patterns, structures) generated by CPPNs for insights that could lead to manual tweaks in the network or evolutionary process.\n"
   ]
  }
 ],
 "metadata": {
  "kernelspec": {
   "display_name": "Python 3",
   "language": "python",
   "name": "python3"
  },
  "language_info": {
   "codemirror_mode": {
    "name": "ipython",
    "version": 3
   },
   "file_extension": ".py",
   "mimetype": "text/x-python",
   "name": "python",
   "nbconvert_exporter": "python",
   "pygments_lexer": "ipython3",
   "version": "3.11.9"
  }
 },
 "nbformat": 4,
 "nbformat_minor": 2
}
