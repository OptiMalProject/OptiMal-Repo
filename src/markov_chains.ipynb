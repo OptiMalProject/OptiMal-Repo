{
 "cells": [
  {
   "cell_type": "markdown",
   "source": [
    "# Markov Chains\n",
    "Markov Chain is a very important concept in the field of machine learning. It is defined as a random process that transitions from one state to another in the state space. That is, at each step of the Markov chain, the system can choose to change their state to a different one or remain the same according to a probability distribution. A change in state is called a transition, and the probabilities associated with different state changes are called transition probabilities. The probability distribution of the process depends only on the current state, not the events preceding it. This is known as the 'memoryless property' as well as the 'Markov property'. With this property, the modeling process of many problems is greatly simplified as it reduces complex dependencies to only one state.\n",
    "\n",
    "![markov_chain](../examples/Markov_Chain.png)"
   ],
   "metadata": {
    "collapsed": false
   },
   "id": "c0806b23beb98121"
  },
  {
   "cell_type": "markdown",
   "source": [
    "## Implementation\n",
    "\n",
    "We can start our implementation by viewing an agent's gameplay as a Markov chain. Import `numpy` library, and define the transition probability of the agent's behaviors."
   ],
   "metadata": {
    "collapsed": false
   },
   "id": "a21ce58fbd21feef"
  },
  {
   "cell_type": "code",
   "execution_count": null,
   "outputs": [],
   "source": [
    "import numpy as np\n",
    "import pandas as pd\n",
    "\n",
    "# agent can take three actions: go to left, go to right and fire\n",
    "agent_states = [\"left\", \"right\", \"fire\"]\n",
    "transition_matrix = [\n",
    "    [0.7, 0.1, 0.2], \n",
    "    [0.4, 0.2, 0.4], \n",
    "    [0.3, 0.5, 0.2]\n",
    "]\n",
    "df = pd.DataFrame(transition_matrix, index=agent_states, columns=agent_states)\n",
    "print(f\"Transition probability: \\n{df}\")"
   ],
   "metadata": {
    "collapsed": false
   },
   "id": "6a996e7fca91ce5c"
  },
  {
   "cell_type": "markdown",
   "source": [
    "Then we simulate the state transition process of Markov chain."
   ],
   "metadata": {
    "collapsed": false
   },
   "id": "a84d6a1832eb09da"
  },
  {
   "cell_type": "code",
   "execution_count": null,
   "outputs": [],
   "source": [
    "# use dictionary to make the process more readable\n",
    "def convert_to_dict(states, matrix):\n",
    "    transition_dict = {}\n",
    "    for i, state in enumerate(states):\n",
    "        transition_dict[state] = {states[j]: matrix[i][j] for j in range(len(states))}\n",
    "    return transition_dict\n",
    "\n",
    "transition_prob = convert_to_dict(agent_states, transition_matrix)\n",
    "print(transition_prob)\n",
    "\n",
    "def state_trans(cur_state, agent_states, transition_prob):\n",
    "    state = np.random.choice(agent_states, p=[transition_prob[cur_state][next_state] for next_state in agent_states])\n",
    "    return state\n",
    "    \n",
    "cur_state = \"left\"\n",
    "print(f\"Original state: {cur_state}\")\n",
    "step = 10\n",
    "for i in range(step):\n",
    "    next_state = state_trans(cur_state, agent_states, transition_prob)\n",
    "    print(f\"Current state: {next_state}\")\n",
    "    cur_state = next_state"
   ],
   "metadata": {
    "collapsed": false
   },
   "id": "8ebf2e574907fff4"
  },
  {
   "cell_type": "markdown",
   "source": [
    "Let's try a more complex example on a Super Mario Bros level. First, read our prepared SMB level from \"/emamples\" file. A Markov chain model is constructed based on these level data. The code generates a Markov chain representing the probability of state transitions by recording how often a particular tile appears in different states. In this notebook, we only used one level as training data, more level can be added to this process to obtain a better result. The original code can be found at: [SMB_Markov](https://github.com/PCGML-Book/Mariolike-Markov-Level-Generation/tree/main)."
   ],
   "metadata": {
    "collapsed": false
   },
   "id": "43e538e107050ed7"
  },
  {
   "cell_type": "code",
   "execution_count": null,
   "outputs": [],
   "source": [
    "level = {}\n",
    "\n",
    "with open('../examples/Mario.txt', 'r') as f:\n",
    "\t\ty = 0\n",
    "\t\tfor line in f:\n",
    "\t\t\tlevel[y] = line.strip()\n",
    "\t\t\ty+=1\n",
    "\n",
    "print(level)\n",
    "\n",
    "# Extract Markov chain Counts from 'level'\n",
    "markovCounts = {} # Dictionary of (x-1, y), (x-1, y+1), (x, y+1)\n",
    "\n",
    "maxY = len(level)-1\n",
    "for y in range(maxY, -1, -1):\n",
    "\tfor x in range(0, len(level[y])-1):\n",
    "\n",
    "\t\t# This grabs the tile values to the left (west), below (south), and left and below (southwest)\n",
    "\t\twest = \" \"\n",
    "\t\tsouthwest = \" \"\n",
    "\t\tsouth = \" \"\n",
    "\n",
    "\t\tif x>0: \n",
    "\t\t\twest = level[y][x-1]\n",
    "\t\tif y<maxY: \n",
    "\t\t\tsouth = level[y+1][x-1]\n",
    "\t\tif x>0 and y<maxY: \n",
    "\t\t\tsouthwest = level[y+1][x]\n",
    "\n",
    "\t\tstate = west+southwest+south\n",
    "\n",
    "\t\tif not state in markovCounts.keys():\n",
    "\t\t\tmarkovCounts[state] = {}\n",
    "\t\tif not level[y][x] in markovCounts[state].keys():\n",
    "\t\t\tmarkovCounts[state][level[y][x]] = 0\n",
    "\n",
    "\t\t# Increments the number of times we see the tile value at location (x,y) given the state (the tile values at (x-1, y), (x-1, y+1), (x, y+1))\n",
    "\t\tmarkovCounts[state][level[y][x]] +=1.0\n",
    "\n",
    "# Normalize markov counts in order to approximate probability values\n",
    "markovProbabilities = {} # The representation of our Markov chain, a dictionary of dictionaries \n",
    "for state in markovCounts.keys():\n",
    "\tmarkovProbabilities[state] = {}\n",
    "\n",
    "\tsumVal = 0\n",
    "\tfor action in markovCounts[state].keys():\n",
    "\t\tsumVal+=markovCounts[state][action]\n",
    "\tfor action in markovCounts[state].keys():\n",
    "\t\tmarkovProbabilities[state][action] =markovCounts[state][action]/sumVal # Approximation of probability values of seeing tile value 'action' given the current 'state'\n",
    "\n",
    "print(markovProbabilities)"
   ],
   "metadata": {
    "collapsed": false
   },
   "id": "a4a3340b7e751731"
  },
  {
   "cell_type": "markdown",
   "source": [
    "Create a new SMB level based on the previously trained Markov chain model, generate a new game level and write it to a txt file."
   ],
   "metadata": {
    "collapsed": false
   },
   "id": "e87d5fa359e2b489"
  },
  {
   "cell_type": "code",
   "execution_count": 14,
   "outputs": [],
   "source": [
    "import random\n",
    "new_level = {}\n",
    "\n",
    "# Parameters determining the size of the new\n",
    "maxY = 15 # will end up generating a new level with one height larger than this\n",
    "maxX = 100\n",
    "\n",
    "# Starting in the bottom left corner, we begin the generation process, going bottom to top then left to right\n",
    "for y in range(maxY, -1, -1):\n",
    "\tnew_level[y] =\"\"\n",
    "\tfor x in range(0, maxX): # We generate one tile at a time for each iteration of this inner loop\n",
    "\n",
    "\t\t# Grab the current state, the three dependent values\n",
    "\t\twest = \" \"\n",
    "\t\tsouthwest = \" \"\n",
    "\t\tsouth = \" \"\n",
    "\n",
    "\t\tif x>0: \n",
    "\t\t\twest = new_level[y][x-1]\n",
    "\t\tif y<maxY: \n",
    "\t\t\tsouth = new_level[y+1][x-1]\n",
    "\t\tif x>0 and y<maxY: \n",
    "\t\t\tsouthwest = new_level[y+1][x]\n",
    "\n",
    "\t\tstate = west+southwest+south\n",
    "\n",
    "\t\t# Query the Markov chain to see what tile value we should place at this tile location\n",
    "\t\tif state in markovProbabilities.keys():\n",
    "\t\t\t\n",
    "\t\t\t# Greedy Sampling. \n",
    "\t\t\t# Uncomment this and comment the Weighted Sampling section below to see what greedy sampling looks like (and why we don't tend to use it)\n",
    "\t\t\t'''\n",
    "\t\t\tmaxValueTile = \"-\"\n",
    "\t\t\tmaxValue = 0.0\n",
    "\t\t\tfor action in markovProbabilities[state]:\n",
    "\t\t\t\tif markovProbabilities[state][action] >maxValue:\n",
    "\t\t\t\t\tmaxValue = markovProbabilities[state][action]\n",
    "\t\t\t\t\tmaxValueTile = action\n",
    "\t\t\tnew_level[y] +=maxValueTile #Add the tile value (tokenToUse) to the level\n",
    "\t\t\t'''\n",
    "\t\t\t# Weighted Sampling\n",
    "\t\t\trandValue = random.random()\n",
    "\t\t\tcurrProb = 0\n",
    "\t\t\ttokenToUse = \"-\"\n",
    "\t\t\tfor action in markovProbabilities[state]:\n",
    "\t\t\t\tcurrProb+=markovProbabilities[state][action]\n",
    "\t\t\t\tif currProb>randValue:\n",
    "\t\t\t\t\ttokenToUse = action\n",
    "\t\t\t\t\tbreak\n",
    "\t\t\t\n",
    "\t\t\tnew_level[y] += tokenToUse # Add the tile value (tokenToUse) to the level\n",
    "\t\t\t\n",
    "\t\telse:\n",
    "\t\t\t# If we can't find anything, just output an empty space\n",
    "\t\t\tnew_level[y] +=\"-\"\n",
    "\n",
    "f = open(\"../examples/New_Level.txt\",\"w\")\n",
    "for y in range(0, maxY+1):\n",
    "\tf.write(new_level[y]+\"\\n\")\n",
    "f.close()"
   ],
   "metadata": {
    "collapsed": false,
    "ExecuteTime": {
     "end_time": "2024-07-29T04:46:24.694755800Z",
     "start_time": "2024-07-29T04:46:24.674751500Z"
    }
   },
   "id": "aeda0e6624f2682"
  },
  {
   "cell_type": "markdown",
   "source": [
    "## Best practices\n",
    "- Not all problems can be represented as a markov chain, such as fluctuations in stoke market prices. Markov chain is a powerful method, but the applicable scenarios for your problems must be determined precisely.\n",
    "- The definition of state space should cover as many possible states as possible, but not so complex as to raise the computation cost. Also, they should be clear enough and independent of each other.\n",
    "- Ensure the sum of the transition probability matrix of each state to other states equals 1."
   ],
   "metadata": {
    "collapsed": false
   },
   "id": "6540dbad54162370"
  }
 ],
 "metadata": {
  "kernelspec": {
   "display_name": "Python 3",
   "language": "python",
   "name": "python3"
  },
  "language_info": {
   "codemirror_mode": {
    "name": "ipython",
    "version": 2
   },
   "file_extension": ".py",
   "mimetype": "text/x-python",
   "name": "python",
   "nbconvert_exporter": "python",
   "pygments_lexer": "ipython2",
   "version": "2.7.6"
  }
 },
 "nbformat": 4,
 "nbformat_minor": 5
}
